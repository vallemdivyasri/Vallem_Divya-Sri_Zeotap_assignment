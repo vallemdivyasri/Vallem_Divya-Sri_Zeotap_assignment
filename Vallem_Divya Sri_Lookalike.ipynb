{
 "cells": [
  {
   "cell_type": "markdown",
   "id": "377f08c2",
   "metadata": {},
   "source": [
    "## Lookalike Model"
   ]
  },
  {
   "cell_type": "code",
   "execution_count": 1,
   "id": "efd73eaf",
   "metadata": {},
   "outputs": [],
   "source": [
    "import pandas as pd\n",
    "from sklearn.preprocessing import StandardScaler\n",
    "from sklearn.metrics.pairwise import cosine_similarity\n",
    "\n",
    "# Load datasets\n",
    "customers = pd.read_csv(\"Customers.csv\")\n",
    "products = pd.read_csv(\"Products.csv\")\n",
    "transactions = pd.read_csv(\"Transactions.csv\")\n",
    "\n",
    "# Merge customer and transaction data\n",
    "customer_transactions = pd.merge(transactions, customers, on='CustomerID')\n",
    "\n",
    "# Aggregate transaction data by customer\n",
    "customer_agg = customer_transactions.groupby('CustomerID').agg({\n",
    "    'TotalValue': 'sum',  # Total spending by the customer\n",
    "    'Quantity': 'sum',    # Total quantity of products purchased\n",
    "    'Price': 'mean'       # Average price of products purchased\n",
    "}).reset_index()\n",
    "\n",
    "# Merge with customer profile data\n",
    "customer_profile = pd.merge(customers, customer_agg, on='CustomerID')\n",
    "\n",
    "# Encode categorical variables (Region)\n",
    "customer_profile['Region'] = customer_profile['Region'].astype('category').cat.codes\n",
    "\n",
    "# Normalize numerical features\n",
    "scaler = StandardScaler()\n",
    "customer_profile[['TotalValue', 'Quantity', 'Price']] = scaler.fit_transform(customer_profile[['TotalValue', 'Quantity', 'Price']])\n",
    "\n",
    "# Calculate similarity matrix\n",
    "similarity_matrix = cosine_similarity(customer_profile[['Region', 'TotalValue', 'Quantity', 'Price']])\n"
   ]
  },
  {
   "cell_type": "code",
   "execution_count": 2,
   "id": "1a3c1b17",
   "metadata": {},
   "outputs": [],
   "source": [
    "\n",
    "# Function to get top 3 lookalikes\n",
    "def get_lookalikes(customer_id, similarity_matrix, top_n=3):\n",
    "    \"\"\"\n",
    "    Returns a list of top N similar customers with their similarity scores.\n",
    "    \"\"\"\n",
    "    customer_index = customer_profile[customer_profile['CustomerID'] == customer_id].index[0]\n",
    "    similarity_scores = list(enumerate(similarity_matrix[customer_index]))\n",
    "    similarity_scores = sorted(similarity_scores, key=lambda x: x[1], reverse=True)\n",
    "    top_lookalikes = similarity_scores[1:top_n+1]  # Exclude the customer itself\n",
    "    return [(customer_profile.iloc[i[0]]['CustomerID'], i[1]) for i in top_lookalikes]"
   ]
  },
  {
   "cell_type": "code",
   "execution_count": 3,
   "id": "dc96026e",
   "metadata": {},
   "outputs": [],
   "source": [
    "# Generate lookalikes for the first 20 customers (C0001 - C0020)\n",
    "lookalike_results = {}\n",
    "for customer_id in customer_profile['CustomerID'][:20]:\n",
    "    lookalikes = get_lookalikes(customer_id, similarity_matrix)\n",
    "    lookalike_results[customer_id] = lookalikes\n",
    "\n",
    "# Save results to CSV in the required format\n",
    "lookalike_df = pd.DataFrame([(k, v[0][0], v[0][1], v[1][0], v[1][1], v[2][0], v[2][1]) for k, v in lookalike_results.items()],\n",
    "                            columns=[\"CustomerID\", \"Similar1\", \"Score1\", \"Similar2\", \"Score2\", \"Similar3\", \"Score3\"])\n"
   ]
  },
  {
   "cell_type": "code",
   "execution_count": 4,
   "id": "5b7645aa",
   "metadata": {},
   "outputs": [
    {
     "name": "stdout",
     "output_type": "stream",
     "text": [
      "Lookalike model results saved to 'Vallem_Divya Sri_Lookalike.csv'\n"
     ]
    }
   ],
   "source": [
    "\n",
    "# Save the CSV with the required naming convention\n",
    "lookalike_df.to_csv(\"Vallem_Divya Sri_Lookalike.csv\", index=False)\n",
    "\n",
    "print(\"Lookalike model results saved to 'Vallem_Divya Sri_Lookalike.csv'\")"
   ]
  },
  {
   "cell_type": "code",
   "execution_count": null,
   "id": "deabfa28",
   "metadata": {},
   "outputs": [],
   "source": []
  }
 ],
 "metadata": {
  "kernelspec": {
   "display_name": "Python 3 (ipykernel)",
   "language": "python",
   "name": "python3"
  },
  "language_info": {
   "codemirror_mode": {
    "name": "ipython",
    "version": 3
   },
   "file_extension": ".py",
   "mimetype": "text/x-python",
   "name": "python",
   "nbconvert_exporter": "python",
   "pygments_lexer": "ipython3",
   "version": "3.10.9"
  }
 },
 "nbformat": 4,
 "nbformat_minor": 5
}
